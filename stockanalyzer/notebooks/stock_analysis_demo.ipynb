{
  "cells": [
    {
      "cell_type": "markdown",
      "metadata": {},
      "source": [
        "# Stock Market Analysis Demo\n",
        "\n",
        "This notebook demonstrates comprehensive stock market analysis using technical indicators, performance metrics, and visualization techniques.\n"
      ]
    },
    {
      "cell_type": "code",
      "execution_count": null,
      "metadata": {},
      "outputs": [],
      "source": [
        "import sys\n",
        "import os\n",
        "sys.path.append(os.path.join(os.getcwd(), '..'))\n",
        "\n",
        "from stock_analyzer import StockAnalyzer, analyze_multiple_stocks\n",
        "import pandas as pd\n",
        "import numpy as np\n",
        "import matplotlib.pyplot as plt\n",
        "import seaborn as sns\n",
        "import warnings\n",
        "warnings.filterwarnings('ignore')\n",
        "\n",
        "plt.style.use('seaborn-v0_8')\n",
        "sns.set_palette(\"husl\")\n"
      ]
    },
    {
      "cell_type": "markdown",
      "metadata": {},
      "source": [
        "## Single Stock Analysis\n",
        "\n",
        "Let's analyze Apple Inc. (AAPL) stock performance over the past year.\n"
      ]
    },
    {
      "cell_type": "code",
      "execution_count": null,
      "metadata": {},
      "outputs": [],
      "source": [
        "aapl = StockAnalyzer('AAPL', period='1y')\n",
        "aapl.fetch_data()\n",
        "aapl.calculate_technical_indicators()\n",
        "\n",
        "print(f\"Data shape: {aapl.data.shape}\")\n",
        "print(f\"Date range: {aapl.data.index[0].strftime('%Y-%m-%d')} to {aapl.data.index[-1].strftime('%Y-%m-%d')}\")\n",
        "print(f\"Current price: ${aapl.data['Close'].iloc[-1]:.2f}\")\n"
      ]
    },
    {
      "cell_type": "markdown",
      "metadata": {},
      "source": [
        "### Price Analysis with Technical Indicators\n"
      ]
    },
    {
      "cell_type": "code",
      "execution_count": null,
      "metadata": {},
      "outputs": [],
      "source": [
        "aapl.plot_price_analysis(figsize=(16, 12))\n"
      ]
    },
    {
      "cell_type": "markdown",
      "metadata": {},
      "source": [
        "### Performance Metrics\n"
      ]
    },
    {
      "cell_type": "code",
      "execution_count": null,
      "metadata": {},
      "outputs": [],
      "source": [
        "metrics = aapl.calculate_performance_metrics()\n",
        "print(\"AAPL Performance Metrics:\")\n",
        "print(\"=\" * 40)\n",
        "for key, value in metrics.items():\n",
        "    if isinstance(value, float):\n",
        "        print(f\"{key}: {value:.2f}\")\n",
        "    else:\n",
        "        print(f\"{key}: {value:,}\")\n"
      ]
    },
    {
      "cell_type": "markdown",
      "metadata": {},
      "source": [
        "## Comparative Analysis\n",
        "\n",
        "Let's compare multiple tech stocks to identify the best performers.\n"
      ]
    },
    {
      "cell_type": "code",
      "execution_count": null,
      "metadata": {},
      "outputs": [],
      "source": [
        "tech_stocks = ['AAPL', 'MSFT', 'GOOGL', 'AMZN', 'TSLA', 'META', 'NVDA']\n",
        "comparison_results = analyze_multiple_stocks(tech_stocks, period='1y')\n"
      ]
    },
    {
      "cell_type": "markdown",
      "metadata": {},
      "source": [
        "### Risk-Return Scatter Plot\n"
      ]
    },
    {
      "cell_type": "code",
      "execution_count": null,
      "metadata": {},
      "outputs": [],
      "source": [
        "plt.figure(figsize=(12, 8))\n",
        "plt.scatter(comparison_results['Volatility'], comparison_results['Total_Return'], \n",
        "           s=100, alpha=0.7, c=comparison_results['Sharpe_Ratio'], cmap='viridis')\n",
        "\n",
        "for i, stock in enumerate(comparison_results.index):\n",
        "    plt.annotate(stock, (comparison_results['Volatility'].iloc[i], \n",
        "                        comparison_results['Total_Return'].iloc[i]),\n",
        "                xytext=(5, 5), textcoords='offset points')\n",
        "\n",
        "plt.xlabel('Volatility (%)')\n",
        "plt.ylabel('Total Return (%)')\n",
        "plt.title('Risk vs Return Analysis')\n",
        "plt.colorbar(label='Sharpe Ratio')\n",
        "plt.grid(True, alpha=0.3)\n",
        "plt.tight_layout()\n",
        "plt.show()\n"
      ]
    },
    {
      "cell_type": "markdown",
      "metadata": {},
      "source": [
        "## Conclusion\n",
        "\n",
        "This analysis demonstrates various techniques for stock market analysis including:\n",
        "\n",
        "1. **Technical Analysis**: Using moving averages, RSI, MACD, and Bollinger Bands\n",
        "2. **Performance Metrics**: Calculating returns, volatility, Sharpe ratio, and maximum drawdown\n",
        "3. **Comparative Analysis**: Comparing multiple stocks across different sectors\n",
        "4. **Risk Assessment**: Understanding the relationship between risk and return\n",
        "5. **Market Trends**: Analyzing sector performance and volatility patterns\n",
        "\n",
        "These tools can help investors make more informed decisions by providing quantitative insights into stock performance and market conditions.\n"
      ]
    }
  ],
  "metadata": {
    "language_info": {
      "name": "python"
    }
  },
  "nbformat": 4,
  "nbformat_minor": 2
}
